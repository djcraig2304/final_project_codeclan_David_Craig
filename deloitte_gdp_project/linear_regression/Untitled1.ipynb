{
 "cells": [
  {
   "cell_type": "code",
   "execution_count": null,
   "id": "410f43ce",
   "metadata": {},
   "outputs": [],
   "source": [
    "# set our response array\n",
    "response_var = all_data_ml[\"gdp_usd\"]\n",
    "# put our predictors in a data frame\n",
    "predictor_vars = all_data_ml.drop(columns = \"gdp_usd\")\n",
    "model = LinearRegression()\n",
    "model.fit(predictor_vars, response_var)\n",
    "model.score(predictor_vars, response_var)"
   ]
  },
  {
   "cell_type": "code",
   "execution_count": null,
   "id": "549a61b2",
   "metadata": {},
   "outputs": [],
   "source": [
    "from sklearn.linear_model import LinearRegression,Ridge,Lasso\n",
    "from sklearn.ensemble import RandomForestRegressor\n",
    "from sklearn.neighbors import KNeighborsRegressor\n",
    "from sklearn.svm import SVR # support vector regression While traditional regression aims to fit a line or curve that minimizes the errors between the predicted and actual values, SVR focuses on fitting a \"tube\" or \"hyperplane\" around the data points\n",
    "\n",
    "# Define a list of regression models to iterate over\n",
    "models = [LinearRegression(), RandomForestRegressor(),KNeighborsRegressor(),Ridge(),Lasso(),SVR()]\n",
    "\n",
    "# Initialize variables to keep track of the best model and its score\n",
    "best_model = None\n",
    "best_score = 0\n",
    "\n",
    "# Iterate over the models and evaluate their performance\n",
    "for model in models:\n",
    "    model.fit(predictor_vars, response_var)\n",
    "    score = model.score(predictor_vars, response_var)\n",
    "    print(f\"{str(model)}: R-squared score = {score}\")\n",
    "\n",
    "    # Check if the current model has a higher score than the best model\n",
    "    if score > best_score:\n",
    "        best_model = model\n",
    "        best_score = score\n",
    "\n",
    "# Print the best model\n",
    "print(f\"\\nBest Model: {best_model} with R-squared score = {best_score}\")"
   ]
  },
  {
   "cell_type": "code",
   "execution_count": null,
   "id": "79d80160",
   "metadata": {},
   "outputs": [],
   "source": [
    "from sklearn.linear_model import LinearRegression, Ridge, Lasso\n",
    "from sklearn.ensemble import RandomForestRegressor\n",
    "from sklearn.neighbors import KNeighborsRegressor\n",
    "from sklearn.svm import SVR\n",
    "from sklearn.model_selection import train_test_split\n",
    "\n",
    "# Assuming predictor_vars and response_var are your dataset\n",
    "# predictor_vars = your predictors dataset\n",
    "# response_var = your response dataset\n",
    "\n",
    "# Split the data into a training set and a testing set\n",
    "predictor_vars_train, predictor_vars_test, response_var_train, response_var_test = train_test_split(predictor_vars, response_var, test_size=0.2, random_state=42)\n",
    "\n",
    "# Define a list of regression models to iterate over\n",
    "models = [LinearRegression(), RandomForestRegressor(),KNeighborsRegressor(),Ridge(),Lasso(),SVR()]\n",
    "\n",
    "# Initialize variables to keep track of the best model and its score\n",
    "best_model = None\n",
    "best_score = 0\n",
    "\n",
    "# Iterate over the models and evaluate their performance\n",
    "for model in models:\n",
    "    model.fit(predictor_vars_train, response_var_train)\n",
    "    score = model.score(predictor_vars_test, response_var_test)\n",
    "    print(f\"{str(model)}: R-squared score on test data = {score}\")\n",
    "    # Check if the current model has a higher score than the best model\n",
    "    if score > best_score:\n",
    "        best_model = model\n",
    "        best_score = score\n",
    "\n",
    "# Print the best model\n",
    "print(f\"\\nBest Model: {best_model} with R-squared score on test data = {best_score}\")"
   ]
  },
  {
   "cell_type": "code",
   "execution_count": null,
   "id": "f75e0ebd",
   "metadata": {},
   "outputs": [],
   "source": []
  }
 ],
 "metadata": {
  "kernelspec": {
   "display_name": "Python 3 (ipykernel)",
   "language": "python",
   "name": "python3"
  },
  "language_info": {
   "codemirror_mode": {
    "name": "ipython",
    "version": 3
   },
   "file_extension": ".py",
   "mimetype": "text/x-python",
   "name": "python",
   "nbconvert_exporter": "python",
   "pygments_lexer": "ipython3",
   "version": "3.9.13"
  }
 },
 "nbformat": 4,
 "nbformat_minor": 5
}
